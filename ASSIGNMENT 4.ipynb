{
 "cells": [
  {
   "cell_type": "code",
   "execution_count": 1,
   "id": "701e179a",
   "metadata": {},
   "outputs": [
    {
     "name": "stdout",
     "output_type": "stream",
     "text": [
      "Enter the key to be verifiedapple\n",
      "key is already exist in the dictionary\n",
      "values : 25\n"
     ]
    }
   ],
   "source": [
    "#1.Write a Python script to check if a given key already exists in a \n",
    "#dictionar\n",
    "\n",
    "d ={'apple':25,'banana':45,'carrot':40,'mango':20,'orange':60}\n",
    "user_inp=input(\"Enter the key to be verified\")\n",
    "if user_inp in d.keys():\n",
    "    print(\"key is already exist in the dictionary\")\n",
    "    print('values',':',d[user_inp])\n",
    "else:\n",
    "    print(\"key does not exist in the dictionary\")"
   ]
  },
  {
   "cell_type": "code",
   "execution_count": null,
   "id": "d8d94417",
   "metadata": {},
   "outputs": [],
   "source": []
  },
  {
   "cell_type": "code",
   "execution_count": 2,
   "id": "f375d861",
   "metadata": {},
   "outputs": [
    {
     "name": "stdout",
     "output_type": "stream",
     "text": [
      "400\n"
     ]
    }
   ],
   "source": [
    "#2. Write a Python program to sum all the numeric items in a dictionary\n",
    "\n",
    "dic1={'math':94,'english':75,'chemistry':66,'physics':75,'urdu':90}\n",
    "print(sum(dic1.values()))\n"
   ]
  },
  {
   "cell_type": "code",
   "execution_count": 3,
   "id": "dc206b0d",
   "metadata": {},
   "outputs": [
    {
     "name": "stdout",
     "output_type": "stream",
     "text": [
      "1 a\n",
      "2 b\n",
      "3 c\n",
      "4 d\n",
      "5 e\n",
      "6 f\n"
     ]
    }
   ],
   "source": [
    "#3. Write a Python script to add a key to a dictionary.\n",
    "\n",
    "dic={1:'a',2:'b',3:'c',4:'d',5:'e'}\n",
    "dic[6]='f'\n",
    "for keys,values in dic.items():\n",
    "    print(keys,values)"
   ]
  },
  {
   "cell_type": "code",
   "execution_count": 4,
   "id": "7e5d44f6",
   "metadata": {},
   "outputs": [
    {
     "name": "stdout",
     "output_type": "stream",
     "text": [
      "Chose the operation:\n",
      "1.Addition\n",
      "2.Subtraction\n",
      "3.Multiplication\n",
      "4.Divide\n",
      "5.power\n",
      "Enter choice:1\n",
      "Enter the First Number5\n",
      "Enter the Second Number89\n",
      "5.0 + 89.0 = 94.0\n"
     ]
    }
   ],
   "source": [
    "#4.Make a calculator using Python with addition , subtraction , \n",
    "#multiplication ,division and power.\n",
    "\n",
    "def Addition(x,y):\n",
    "    return(x+y)\n",
    "def substract(x,y):\n",
    "    return(x-y)\n",
    "def multiply(x,y):\n",
    "    return(x*y)\n",
    "def divide(x,y):\n",
    "    return(x/y)\n",
    "def power(x,y):\n",
    "    return pow(x,y)\n",
    "print(\"Chose the operation:\")\n",
    "print(\"1.Addition\")\n",
    "print(\"2.Subtraction\")\n",
    "print(\"3.Multiplication\")\n",
    "print(\"4.Divide\")\n",
    "print(\"5.power\")\n",
    "choose=input(\"Enter choice:\")\n",
    "num1=float(input(\"Enter the First Number\"))\n",
    "num2=float(input(\"Enter the Second Number\"))\n",
    "if(choose=='1'):\n",
    "    print(num1,\"+\",num2,\"=\",Addition(num1,num2))\n",
    "elif(choose=='2'):\n",
    "    print(num1,\"-\",num2,\"=\",substract(num1,num2))\n",
    "elif(choose=='3'):\n",
    "    print(num1,\"*\",num2,\"=\",multiply(num1,num2))\n",
    "elif(choose=='4'):\n",
    "    print(num1,\"/\",num2,\"=\",divide(num1,num2))\n",
    "elif(choose=='5'):\n",
    "    print(num1,\"^\",num2,\"=\",power(num1,num2))\n",
    "else:\n",
    "    print(\"choose correct option\")"
   ]
  },
  {
   "cell_type": "code",
   "execution_count": 5,
   "id": "54338cd2",
   "metadata": {},
   "outputs": [
    {
     "name": "stdout",
     "output_type": "stream",
     "text": [
      "4\n",
      "8\n",
      "6\n",
      "9\n"
     ]
    }
   ],
   "source": [
    "#5. Write a program to identify duplicate values from list.\n",
    "\n",
    "list1=[4,6,8,4,9,2,5,8,1,6,7,9]\n",
    "list2=[]\n",
    "\n",
    "for i in list1:\n",
    "    if i not in list2:\n",
    "        list2.append(i)\n",
    "    else:\n",
    "        print(i)\n"
   ]
  },
  {
   "cell_type": "code",
   "execution_count": 6,
   "id": "d3af6c29",
   "metadata": {},
   "outputs": [
    {
     "name": "stdout",
     "output_type": "stream",
     "text": [
      "6\n",
      "4\n"
     ]
    }
   ],
   "source": [
    "#6.Write a Python program to sum all the numeric items in a dictionary\n",
    "\n",
    "list =[\"saqib\",\"mubashir\",\"sana\",6,\"azher\",4,\"aaqib\"]\n",
    "for x in list:\n",
    "    if type(x)==int:\n",
    "        print(x)"
   ]
  },
  {
   "cell_type": "code",
   "execution_count": null,
   "id": "ad245700",
   "metadata": {},
   "outputs": [],
   "source": []
  }
 ],
 "metadata": {
  "kernelspec": {
   "display_name": "Python 3",
   "language": "python",
   "name": "python3"
  },
  "language_info": {
   "codemirror_mode": {
    "name": "ipython",
    "version": 3
   },
   "file_extension": ".py",
   "mimetype": "text/x-python",
   "name": "python",
   "nbconvert_exporter": "python",
   "pygments_lexer": "ipython3",
   "version": "3.8.8"
  }
 },
 "nbformat": 4,
 "nbformat_minor": 5
}
